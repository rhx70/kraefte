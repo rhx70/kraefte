{
 "cells": [
  {
   "cell_type": "markdown",
   "id": "0385f730",
   "metadata": {},
   "source": [
    "## 目录文件列表"
   ]
  },
  {
   "cell_type": "code",
   "execution_count": 1,
   "id": "32c2b453",
   "metadata": {
    "scrolled": true
   },
   "outputs": [
    {
     "name": "stdout",
     "output_type": "stream",
     "text": [
      "﻿ADN-407\n"
     ]
    }
   ],
   "source": [
    "import os\n",
    "import re\n",
    "\n",
    "path = '/storage/emulated/0/Pictures/Browser/11/'\n",
    "txtname = 'keywords.txt'\n",
    "txtname2 = 'aa1.txt'\n",
    "\n",
    "with open(os.path.join(path, txtname2), \"r\", encoding='utf_8') as f:\n",
    "    lsarr = f.readlines()\n",
    "\n",
    "with open(os.path.join(path, txtname), \"r\", encoding='utf_8') as f1:\n",
    "# with open(os.path.join(path, txtname), \"r\", encoding='gbk') as f:\n",
    "    linesarr = f1.readlines()\n",
    "    for fi in linesarr:\n",
    "        if fi not in lsarr:\n",
    "            print(fi.strip())\n",
    "        break\n",
    "\n"
   ]
  },
  {
   "cell_type": "code",
   "execution_count": 2,
   "id": "60528483",
   "metadata": {},
   "outputs": [],
   "source": [
    "import os\n",
    "import re\n",
    "\n",
    "def do_process(filepathname):\n",
    "    if filepathname.find(\" 的目录\")>=0:\n",
    "        print(filepathname)\n",
    "        return\n",
    "    num = re.compile(r'[A-Za-z]+-\\d{1,}')\n",
    "    lssarr = num.findall(filepathname)\n",
    "    if len(lssarr) > 0:\n",
    "        for item in lssarr:\n",
    "            print(item)\n",
    "\n",
    "path = '/storage/emulated/0/Pictures/Browser/10/'\n",
    "txtname = 'aa.txt'\n",
    "# with open(os.path.join(path, txtname), \"r\", encoding='utf_8') as f:\n",
    "with open(os.path.join(path, txtname), \"r\", encoding='gbk') as f:\n",
    "    linesarr = f.readlines()\n",
    "    for fi in linesarr:\n",
    "        do_process(fi.strip())\n",
    "        break\n",
    "\n"
   ]
  },
  {
   "cell_type": "code",
   "execution_count": 3,
   "id": "3aac00e7",
   "metadata": {
    "scrolled": true
   },
   "outputs": [
    {
     "name": "stdout",
     "output_type": "stream",
     "text": [
      "GVH-417\n"
     ]
    }
   ],
   "source": [
    "import os\n",
    "import re\n",
    "\n",
    "def do_process(filepathname):\n",
    "    # print(filepathname)\n",
    "    num = re.compile(r'[A-Za-z]+-\\d{1,}')\n",
    "    lssarr = num.findall(filepathname)\n",
    "    if len(lssarr) > 0:\n",
    "        print(lssarr[0])\n",
    "    else:\n",
    "        print(filepathname.split(\".\")[0])\n",
    "\n",
    "\n",
    "# path = '/storage/emulated/0/_Backup/_test_/11/'\n",
    "path = '/storage/emulated/0/Pictures/Browser/11/'\n",
    "\n",
    "for fi in os.listdir(path): # os.listdir():\n",
    "    # if os.path.isfile(fi) and fi.endswith('.py'): # not os.path.isdir(fi):\n",
    "    if os.path.isfile(path+fi):\n",
    "        do_process(fi)\n",
    "        break\n",
    "\n"
   ]
  },
  {
   "cell_type": "code",
   "execution_count": 11,
   "id": "cd0e82fe",
   "metadata": {
    "scrolled": true
   },
   "outputs": [
    {
     "data": {
      "text/plain": [
       "3.1412593202657186"
      ]
     },
     "execution_count": 11,
     "metadata": {},
     "output_type": "execute_result"
    }
   ],
   "source": [
    "# 在14世纪，伟大的印度智者摩陀婆就发现了\n",
    "# 一个惊人的等式:\n",
    "# pi = 4 *∑ (-1)^(n-1)/(2n-1)\n",
    "\n",
    "n=3000\n",
    "pi=0\n",
    "for i in range(n):\n",
    "    i=i+1\n",
    "    pi += ((-1)**(i-1))/(2*i-1)\n",
    "pi = pi * 4\n",
    "pi\n"
   ]
  },
  {
   "cell_type": "code",
   "execution_count": 13,
   "id": "5fd6fec2",
   "metadata": {
    "scrolled": true
   },
   "outputs": [],
   "source": [
    "import os\n",
    "from os.path import exists\n",
    "import shutil\n",
    "\n",
    "#创建目录并新增文件\n",
    "def createfile(filename):\n",
    "    if exists(filename):\n",
    "        shutil.rmtree(filename)\n",
    "    os.mkdir(filename)\n",
    "    #list = os.listdir()\n",
    "    #print(list)\n",
    "    os.chdir(filename)\n",
    "    for i in range(1,15):\n",
    "        open(str(i+10)+'.txt','w').close()\n",
    " \n",
    "def rename(filename):\n",
    "    list = os.listdir()           #获取当前文件夹中的所有文件\n",
    "    os.chdir('../')               #回退到上级目录\n",
    "    # os.mkdir(filename+\"-new\")     #创建新的目录\n",
    "    os.chdir(filename)            #切换到原来的目录\n",
    "    for file in list:             #遍历目录中的内容\n",
    "        # rsplit：从右侧分割字符串\n",
    "        # 参数1：分割符，默认为所有的空字符，包括空格、换行(\\n)、制表符(\\t)等。\n",
    "        # 参数2，分割次数，默认为分隔符在字符串中出现的总次数。\n",
    "        h = file.rsplit('.',1)\n",
    "        h = h[0] + \"-1.\" + h[-1]  #新的文件名\n",
    "        # os.rename(file, f\"../{filename}-new/\"+h)   #重命名\n",
    "        os.rename(file, f\"../{filename}/\"+h)   #重命名\n",
    " \n",
    "if __name__ == '__main__':\n",
    "    oripath = os.getcwd()\n",
    "    #print(exists(\"_modify\"))\n",
    "    #os.mkdir(\"_modif\")\n",
    "    createfile(\"_modify\")\n",
    "    rename(\"_modify\")\n",
    "    os.chdir(oripath)\n"
   ]
  },
  {
   "cell_type": "code",
   "execution_count": 14,
   "id": "dee4cb32",
   "metadata": {},
   "outputs": [
    {
     "name": "stdout",
     "output_type": "stream",
     "text": [
      "/storage/emulated/0/_Backup/_test_/11\n"
     ]
    }
   ],
   "source": [
    "print(oripath)"
   ]
  },
  {
   "cell_type": "code",
   "execution_count": 11,
   "id": "df809d3d",
   "metadata": {},
   "outputs": [],
   "source": [
    "import shutil  \n",
    "\n",
    "os.chdir(oripath)\n",
    "#list = os.listdir()\n",
    "#print(list)\n",
    "#shutil.rmtree('_modify') \n",
    "filename = \"_modify\"\n",
    "list = os.walk(filename)\n",
    "for dirName,subDirs,files in list:\n",
    "    for filen in files:\n",
    "        os.remove(dirName+\"/\"+filen)\n",
    "os.removedirs(filename)"
   ]
  },
  {
   "cell_type": "code",
   "execution_count": 2,
   "id": "6d7d5386",
   "metadata": {
    "scrolled": true
   },
   "outputs": [],
   "source": [
    "import os\n",
    "\n",
    "# 指定待修改文件夹路径\n",
    "folder_path = \"./rename_it\"\n",
    "# 获取文件夹下所有文件名\n",
    "file_names = os.listdir(folder_path)\n",
    "# 遍历所有文件，修改文件名\n",
    "for file_name in file_names:\n",
    "    # print(file_name)\n",
    "    # continue\n",
    "    # 构造旧文件路径和新文件路径\n",
    "    old_file_path = os.path.join(folder_path, file_name)\n",
    "    new_file_name = file_name.replace(\"tagesschau\", \"\").replace(\"_\", \"\")\n",
    "    new_file_path = os.path.join(folder_path, new_file_name)\n",
    "    \n",
    "    # 修改文件名\n",
    "    os.rename(old_file_path, new_file_path)\n",
    "\n",
    "\n",
    "\n"
   ]
  }
 ],
 "metadata": {
  "kernelspec": {
   "display_name": "Python 3 (ipykernel)",
   "language": "python",
   "name": "python3"
  },
  "language_info": {
   "codemirror_mode": {
    "name": "ipython",
    "version": 3
   },
   "file_extension": ".py",
   "mimetype": "text/x-python",
   "name": "python",
   "nbconvert_exporter": "python",
   "pygments_lexer": "ipython3",
   "version": "3.9.6"
  }
 },
 "nbformat": 4,
 "nbformat_minor": 5
}
